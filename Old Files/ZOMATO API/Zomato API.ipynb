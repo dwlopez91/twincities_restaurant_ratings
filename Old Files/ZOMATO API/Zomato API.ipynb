{
 "cells": [
  {
   "cell_type": "code",
   "execution_count": null,
   "metadata": {
    "ExecuteTime": {
     "end_time": "2020-01-12T05:49:13.153188Z",
     "start_time": "2020-01-12T05:49:11.805792Z"
    }
   },
   "outputs": [],
   "source": [
    "import pandas as pd\n",
    "import numpy as np\n",
    "import requests\n",
    "import time\n",
    "import json\n",
    "from config import API_KEY"
   ]
  },
  {
   "cell_type": "code",
   "execution_count": null,
   "metadata": {
    "ExecuteTime": {
     "end_time": "2020-01-12T05:49:17.995355Z",
     "start_time": "2020-01-12T05:49:13.156183Z"
    },
    "scrolled": true
   },
   "outputs": [],
   "source": [
    "data = []\n",
    "\n",
    "headers = {\n",
    "    'Accept': 'application/json', \n",
    "    'user-key': API_KEY\n",
    "    }\n",
    "\n",
    "url = 'https://developers.zomato.com/api/v2.1/search'\n",
    "\n",
    "lat=44.9375\n",
    "lon=-93.2010\n",
    "\n",
    "for start in range(0, 100, 20):\n",
    "\n",
    "    params = {\n",
    "        'lat': lat,\n",
    "        'lon': lon,\n",
    "        'radius':10000,\n",
    "        'start':start\n",
    "        }\n",
    "    \n",
    "    response=requests.get(url, params=params, headers=headers)\n",
    "    if response.status_code == 200:\n",
    "        data += response.json()['restaurants']\n",
    "    elif response.status_code == 400:\n",
    "        print('400 Bad Request')\n",
    "        break\n",
    "\n",
    "print(json.dumps(data, indent=4, sort_keys=True))"
   ]
  },
  {
   "cell_type": "code",
   "execution_count": null,
   "metadata": {
    "ExecuteTime": {
     "end_time": "2020-01-12T05:49:18.024275Z",
     "start_time": "2020-01-12T05:49:18.002338Z"
    }
   },
   "outputs": [],
   "source": [
    "len(data)"
   ]
  },
  {
   "cell_type": "code",
   "execution_count": null,
   "metadata": {
    "ExecuteTime": {
     "end_time": "2020-01-12T05:49:18.093094Z",
     "start_time": "2020-01-12T05:49:18.027272Z"
    }
   },
   "outputs": [],
   "source": [
    "i=0\n",
    "business_list=[]\n",
    "for places in data:\n",
    "    zomato_id=data[i]['restaurant']['id']\n",
    "    name=data[i]['restaurant']['name']\n",
    "#     phone=data[i]['restaurant']['display_phone']\n",
    "    address=data[i]['restaurant']['location']['address']\n",
    "    url=data[i]['restaurant']['url']\n",
    "    rating=data[i]['restaurant']['user_rating']['aggregate_rating']\n",
    "    reviews=data[i]['restaurant']['all_reviews_count']\n",
    "    latitude=data[i]['restaurant']['location']['latitude']\n",
    "    longitude=data[i]['restaurant']['location']['longitude']\n",
    "    category = data[i]['restaurant']['cuisines']\n",
    "    categories = category.split(', ')\n",
    "    business_dict={\"ZomatoID\":zomato_id,\"Categories\":categories,\"Name\":name,\"Latitude\":latitude,\"Longitude\":longitude,\"Address\":address, \"URL\":url,\"Rating\":rating,\"Reviews\":reviews}\n",
    "    business_list.append(business_dict)\n",
    "    i+=1\n",
    "    \n",
    "business_list"
   ]
  },
  {
   "cell_type": "code",
   "execution_count": null,
   "metadata": {
    "ExecuteTime": {
     "end_time": "2020-01-12T05:49:18.200808Z",
     "start_time": "2020-01-12T05:49:18.097082Z"
    }
   },
   "outputs": [],
   "source": [
    "business_df=pd.DataFrame(business_list, columns=['ZomatoID','Name','Latitude','Longitude','Categories','Address','URL','Rating','Reviews'])\n",
    "business_df"
   ]
  },
  {
   "cell_type": "code",
   "execution_count": null,
   "metadata": {},
   "outputs": [],
   "source": []
  }
 ],
 "metadata": {
  "kernelspec": {
   "display_name": "Python 3",
   "language": "python",
   "name": "python3"
  },
  "language_info": {
   "codemirror_mode": {
    "name": "ipython",
    "version": 3
   },
   "file_extension": ".py",
   "mimetype": "text/x-python",
   "name": "python",
   "nbconvert_exporter": "python",
   "pygments_lexer": "ipython3",
   "version": "3.7.3"
  }
 },
 "nbformat": 4,
 "nbformat_minor": 2
}
