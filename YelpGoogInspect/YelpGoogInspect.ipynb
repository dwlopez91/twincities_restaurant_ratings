{
 "cells": [
  {
   "cell_type": "code",
   "execution_count": 1,
   "metadata": {
    "ExecuteTime": {
     "end_time": "2020-01-18T16:49:36.243780Z",
     "start_time": "2020-01-18T16:49:31.250146Z"
    }
   },
   "outputs": [],
   "source": [
    "import requests\n",
    "import json\n",
    "import pandas as pd\n",
    "import numpy as np\n",
    "import datetime\n",
    "from config import api_key\n",
    "from config import google_key\n",
    "import sqlalchemy\n",
    "import urllib\n",
    "from sqlalchemy import create_engine\n",
    "from sqlalchemy.ext.declarative import declarative_base\n",
    "from sqlalchemy import PrimaryKeyConstraint\n",
    "from sqlalchemy.orm import Session\n",
    "from sqlalchemy.orm import sessionmaker\n",
    "from sqlalchemy import Column, Integer, String, Float, DateTime\n",
    "from sqlalchemy.schema import Sequence"
   ]
  },
  {
   "cell_type": "code",
   "execution_count": 2,
   "metadata": {
    "ExecuteTime": {
     "end_time": "2020-01-18T16:50:00.506798Z",
     "start_time": "2020-01-18T16:49:36.247770Z"
    },
    "scrolled": true
   },
   "outputs": [
    {
     "name": "stdout",
     "output_type": "stream",
     "text": [
      "Downloading Yelp Data...\n",
      "Yelp data downloaded...  There are 1000 records...\n"
     ]
    }
   ],
   "source": [
    "data = []\n",
    "\n",
    "headers = {'Authorization': 'Bearer %s' % api_key}\n",
    "\n",
    "url='https://api.yelp.com/v3/businesses/search'\n",
    "\n",
    "print('Downloading Yelp Data...')\n",
    "\n",
    "for offset in range(0, 1000, 50):\n",
    "    \n",
    "    params = {\n",
    "        'limit':50, \n",
    "        'location':'Minneapolis, MN',\n",
    "\n",
    "        'categories':'restaurants',\n",
    "        'offset':offset\n",
    "        }  \n",
    "    \n",
    "    response=requests.get(url, params=params, headers=headers)\n",
    "    if response.status_code == 200:\n",
    "        data += response.json()['businesses']\n",
    "    elif response.status_code == 400:\n",
    "        print('400 Bad Request')\n",
    "        break\n",
    "        \n",
    "print(f'Yelp data downloaded...  There are {len(data)} records...')"
   ]
  },
  {
   "cell_type": "code",
   "execution_count": 3,
   "metadata": {
    "ExecuteTime": {
     "end_time": "2020-01-18T16:50:00.516772Z",
     "start_time": "2020-01-18T16:50:00.507796Z"
    },
    "scrolled": true
   },
   "outputs": [
    {
     "name": "stdout",
     "output_type": "stream",
     "text": [
      "yelp_list with needed data has been built.\n"
     ]
    }
   ],
   "source": [
    "i=0\n",
    "yelp_list=[]\n",
    "for places in data:\n",
    "    yelp_id=data[i]['id']\n",
    "    name=data[i]['name']\n",
    "    street=data[i]['location']['address1'] \n",
    "    city=data[i]['location']['city']\n",
    "    zipcode=data[i]['location']['zip_code']\n",
    "    address= f'{street}, {city} {zipcode}'\n",
    "    rating=data[i]['rating']\n",
    "    reviews=data[i]['review_count']\n",
    "    latitude=data[i]['coordinates']['latitude']\n",
    "    longitude=data[i]['coordinates']['longitude']\n",
    "    if data[i]['is_closed']==False:\n",
    "        business_dict={\"YelpID\":yelp_id,\"Name\":name,\"Latitude\":latitude,\"Longitude\":longitude,\"Address\":address, \"Rating\":rating,\"Reviews\":reviews}\n",
    "        yelp_list.append(business_dict)\n",
    "    i+=1\n",
    "    \n",
    "print('yelp_list with needed data has been built.')"
   ]
  },
  {
   "cell_type": "code",
   "execution_count": 4,
   "metadata": {
    "ExecuteTime": {
     "end_time": "2020-01-18T16:50:00.564642Z",
     "start_time": "2020-01-18T16:50:00.517769Z"
    }
   },
   "outputs": [
    {
     "name": "stdout",
     "output_type": "stream",
     "text": [
      "Yelp DataFrame now stored in memory as \"yelp_df\" and csv \"YelpData.csv\" has been saved in DataFiles folder.\n",
      "---------------\n"
     ]
    }
   ],
   "source": [
    "yelp_df=pd.DataFrame(yelp_list)\n",
    "yelp_df['Index']=yelp_df.index\n",
    "yelp_df=yelp_df[['Index','YelpID','Name','Latitude','Longitude','Address','Rating','Reviews']]\n",
    "yelp_df.to_csv(\"DataFiles/YelpData.csv\")\n",
    "\n",
    "print('Yelp DataFrame now stored in memory as \"yelp_df\" and csv \"YelpData.csv\" has been saved in DataFiles folder.')\n",
    "print('---------------')"
   ]
  },
  {
   "cell_type": "code",
   "execution_count": null,
   "metadata": {
    "ExecuteTime": {
     "end_time": "2020-01-18T16:59:48.785360Z",
     "start_time": "2020-01-18T16:50:00.566638Z"
    }
   },
   "outputs": [],
   "source": [
    "print('Matching Yelp data list to Google API...   This will take some time, as we match each record...')\n",
    "\n",
    "url = 'https://maps.googleapis.com/maps/api/place/findplacefromtext/json?'\n",
    "google_data=[]\n",
    "\n",
    "for places in yelp_list:\n",
    "    \n",
    "    params = {\n",
    "        'key':google_key,\n",
    "        'input':places['Name'],\n",
    "        'inputtype':'textquery',\n",
    "        'locationbias': 'point:' + str(places['Latitude']) + \", \" + str(places['Longitude']),\n",
    "        'radius': 10,\n",
    "        'fields':'name,formatted_address,place_id,geometry,rating,user_ratings_total'\n",
    "        }\n",
    "    \n",
    "    response = requests.get(url, params=params)\n",
    "\n",
    "    if len(response.json()['candidates'])>0:\n",
    "        google_data.append(response.json()['candidates'][0])\n",
    "    else:\n",
    "        google_data.append(\"\")\n",
    "\n",
    "print(f'Google match has been completed...  There are {len(google_data)} records')"
   ]
  },
  {
   "cell_type": "code",
   "execution_count": null,
   "metadata": {
    "ExecuteTime": {
     "end_time": "2020-01-18T16:59:48.800305Z",
     "start_time": "2020-01-18T16:59:48.790334Z"
    },
    "code_folding": []
   },
   "outputs": [],
   "source": [
    "i=0\n",
    "google_list=[]\n",
    "\n",
    "for places in google_data:\n",
    "    if places != \"\":\n",
    "        if \"place_id\" in places:\n",
    "            google_id = places['place_id']\n",
    "        if \"name\" in places:\n",
    "            name = places['name']\n",
    "        if \"formatted_address\" in places:\n",
    "            address = places['formatted_address']\n",
    "        if \"rating\" in places:\n",
    "            rating  = places['rating']\n",
    "        if \"reviews\" in places:\n",
    "            reviews = places['user_ratings_total']\n",
    "        if \"geometry\" in places:\n",
    "            latitude = places['geometry']['location']['lat']\n",
    "            longitude = places['geometry']['location']['lng']\n",
    "        business_dict = {\"Google Places ID\":google_id,\"Name\":name,\"Latitude\":latitude,\"Longitude\":longitude,\"Address\":address, \"Rating\":rating,\"Reviews\":reviews}\n",
    "    \n",
    "    else:\n",
    "        business_dict = {\"Google Places ID\":\"\",\"Name\":\"\",\"Latitude\":\"\",\"Longitude\":\"\",\"Address\":\"\", \"Rating\":\"\",\"Reviews\":\"\"}\n",
    "    \n",
    "    google_list.append(business_dict)\n",
    "    \n",
    "    i+=1\n",
    "    \n",
    "print('google_list with needed data has been built.')"
   ]
  },
  {
   "cell_type": "code",
   "execution_count": null,
   "metadata": {
    "ExecuteTime": {
     "end_time": "2020-01-18T16:59:48.824243Z",
     "start_time": "2020-01-18T16:59:48.803298Z"
    }
   },
   "outputs": [],
   "source": [
    "google_df=pd.DataFrame(google_list)\n",
    "google_df.to_csv('DataFiles/GoogleData.csv')\n",
    "\n",
    "\n",
    "print('Google DataFrame now stored in memory as \"google_df\" and csv \"GoogleData.csv\" has been saved in DataFiles folder.')\n",
    "print('---------------')"
   ]
  },
  {
   "cell_type": "code",
   "execution_count": null,
   "metadata": {
    "ExecuteTime": {
     "end_time": "2020-01-18T16:59:48.838205Z",
     "start_time": "2020-01-18T16:59:48.826236Z"
    }
   },
   "outputs": [],
   "source": [
    "i - 0\n",
    "compare_list=[]\n",
    "yelpgeo_list=[]\n",
    "\n",
    "for i in range(len('yelp_list')):\n",
    "\n",
    "    compare = {\"Yelp\":yelp_list[i]['Name'],\"Google\":google_list[i]['Name'],\"GoogleAddress\":google_list[i]['Address'],\"Yelp Address\":yelp_list[i]['Address']}\n",
    "    compare_list.append(compare)\n",
    "    i+=1\n",
    "\n",
    "compare_df = pd.DataFrame(compare_list)\n",
    "compare_df.to_csv('DataFiles/compare.csv')\n",
    "\n",
    "print('\"compare_df\" has been stored in memory and csv \"compare.csv\" has been saved in DataFiles folder to allow easy comparison between Yelp and Google data.')\n",
    "print('---------------')"
   ]
  },
  {
   "cell_type": "code",
   "execution_count": null,
   "metadata": {
    "ExecuteTime": {
     "end_time": "2020-01-18T17:03:41.188512Z",
     "start_time": "2020-01-18T16:59:48.840198Z"
    }
   },
   "outputs": [],
   "source": [
    "print('Matching Yelp data list to Minneapolis Health Inspection API...   This will take some time, as we match each record...')\n",
    "\n",
    "inspection_data=[]\n",
    "\n",
    "for records in yelp_list:\n",
    "\n",
    "    biz = records['Name']\n",
    "\n",
    "    biz_string = biz.split(' ',1)[0].upper()\n",
    "    biz_string = biz_string.replace(\"'\",\"\")\n",
    "    biz_string = biz_string.replace(\"&\",\"\")\n",
    "\n",
    "    url = 'https://services.arcgis.com/afSMGVsC7QlRK1kZ/arcgis/rest/services/Food_Inspections/FeatureServer/0/query?'\n",
    "\n",
    "    minlat=records['Latitude']-.001\n",
    "    maxlat=records['Latitude']+.001\n",
    "    minlon=records['Longitude']-.001\n",
    "    maxlon=records['Longitude']+.001\n",
    "\n",
    "    params = f\"where=BusinessName%20like%20'%25{biz_string}%25'%20AND%20Latitude%20%3E%3D%20{minlat}%20AND%20Latitude%20%3C%3D%20{maxlat}%20AND%20Longitude%20%3E%3D%20{minlon}%20AND%20Longitude%20%3C%3D%20{maxlon}\"\n",
    "\n",
    "    outfields = \"&outFields=BusinessName,OBJECTID,HealthFacilityIDNumber,RiskLevel,FullAddress,InspectionType,InspectionResult,DateOfInspection,InspectionIDNumber,YearOfInspection,InspectionScore,Latitude,Longitude,ZipCode,ViolationStatus&returnGeometry=false&outSR=4326\"\n",
    "\n",
    "    json = '&f=json'\n",
    "\n",
    "    full_url = url+params+outfields+json\n",
    "\n",
    "    response = requests.get(full_url)\n",
    "    \n",
    "    if response !=\"\":\n",
    "        inspection_data += response.json()['features']\n",
    "    \n",
    "print(f'Inspection data match has been completed...  There are {len(inspection_data)} records')"
   ]
  },
  {
   "cell_type": "code",
   "execution_count": null,
   "metadata": {
    "ExecuteTime": {
     "end_time": "2020-01-18T17:03:41.197477Z",
     "start_time": "2020-01-18T17:03:41.189499Z"
    }
   },
   "outputs": [],
   "source": [
    "inspection_data_list = []\n",
    "\n",
    "for records in inspection_data:\n",
    "    item = records['attributes']\n",
    "    inspection_data_list.append(item)\n",
    "    \n",
    "print('inspection_data_list with needed data has been built.')"
   ]
  },
  {
   "cell_type": "code",
   "execution_count": null,
   "metadata": {
    "ExecuteTime": {
     "end_time": "2020-01-18T17:03:41.526615Z",
     "start_time": "2020-01-18T17:03:41.198475Z"
    }
   },
   "outputs": [],
   "source": [
    "inspections_df = pd.DataFrame(inspection_data_list)\n",
    "inspections_df\n",
    "inspections_df.to_csv('DataFiles/InspectionsData.csv')\n",
    "\n",
    "print('Inspections DataFrame now stored in memory as \"inspections_df\" and csv \"InspectionsData.csv\" has been saved in DataFiles folder.')\n",
    "print('---------------')"
   ]
  },
  {
   "cell_type": "code",
   "execution_count": 13,
   "metadata": {
    "ExecuteTime": {
     "end_time": "2020-01-18T17:03:41.530592Z",
     "start_time": "2020-01-18T17:03:41.527593Z"
    }
   },
   "outputs": [],
   "source": [
    "#Postgres username, password, and database name\n",
    "ipaddress = 'localhost'\n",
    "port = '5432'\n",
    "username = 'postgres'\n",
    "password = 'password' \n",
    "dbname = 'Minneapolis_Restaurants'\n",
    "# A long string that contains the necessary Postgres login information\n",
    "postgres_str = f'postgresql://{username}:{password}@{ipaddress}:{port}/{dbname}'"
   ]
  },
  {
   "cell_type": "code",
   "execution_count": 14,
   "metadata": {
    "ExecuteTime": {
     "end_time": "2020-01-18T17:03:42.081480Z",
     "start_time": "2020-01-18T17:03:41.532582Z"
    }
   },
   "outputs": [
    {
     "ename": "DataError",
     "evalue": "(psycopg2.errors.StringDataRightTruncation) value too long for type character varying(50)\n\n[SQL: INSERT INTO yelp (\"Index\", \"YelpID\", \"Name\", \"Latitude\", \"Longitude\", \"Address\", \"Rating\", \"Reviews\") VALUES (%(Index)s, %(YelpID)s, %(Name)s, %(Latitude)s, %(Longitude)s, %(Address)s, %(Rating)s, %(Reviews)s)]\n[parameters: ({'Index': 0, 'YelpID': 'G9KdODINirmdSuYaBfBppA', 'Name': 'Butcher & The Boar', 'Latitude': 44.974777, 'Longitude': -93.279792, 'Address': '1121 Hennepin Ave, Minneapolis 55403', 'Rating': 4.5, 'Reviews': 1613}, {'Index': 1, 'YelpID': 'zv_XJAQr9D3PNR5eHYhC5w', 'Name': 'Bar La Grassa', 'Latitude': 44.98954, 'Longitude': -93.278594, 'Address': '800 Washington Ave N, Minneapolis 55401', 'Rating': 4.5, 'Reviews': 1246}, {'Index': 2, 'YelpID': '6vaAze9Fxuco249L3BhEdQ', 'Name': '112 Eatery', 'Latitude': 44.98267, 'Longitude': -93.2716, 'Address': '112 N 3rd St, Minneapolis 55401', 'Rating': 4.5, 'Reviews': 1163}, {'Index': 3, 'YelpID': '5s2sT8ux7og5XfK-180r2g', 'Name': 'George & The Dragon', 'Latitude': 44.912151, 'Longitude': -93.290436, 'Address': '813 W 50th St, Minneapolis 55419', 'Rating': 4.5, 'Reviews': 884}, {'Index': 4, 'YelpID': '5olLs-K-_k_rWrrNLjvy0w', 'Name': 'Spoon and Stable', 'Latitude': 44.9854892917291, 'Longitude': -93.2695363613423, 'Address': '211 N 1st St, Minneapolis 55401', 'Rating': 4.5, 'Reviews': 893}, {'Index': 5, 'YelpID': 'g7bbpP7x5KAc33i7pgOkLA', 'Name': \"Hell's Kitchen\", 'Latitude': 44.97460605855, 'Longitude': -93.2726155438114, 'Address': '80 S 9th St, Minneapolis 55402', 'Rating': 4.0, 'Reviews': 2358}, {'Index': 6, 'YelpID': 'iH3FcZ4Xchx3s7fgIINaYg', 'Name': 'Pizzeria Lola', 'Latitude': 44.9018519553182, 'Longitude': -93.3186280826087, 'Address': '5557 Xerxes Ave S, Minneapolis 55410', 'Rating': 4.5, 'Reviews': 1016}, {'Index': 7, 'YelpID': 'MDPv2B2jwA1qLvQCXlEVww', 'Name': 'Red Cow - Minneapolis', 'Latitude': 44.9835380660176, 'Longitude': -93.2696064205751, 'Address': '208 N 1st Ave, Minneapolis 55401', 'Rating': 4.5, 'Reviews': 929}  ... displaying 10 of 1000 total bound parameter sets ...  {'Index': 998, 'YelpID': 'Z7FQJU7hq7OGhTN6ReNsIA', 'Name': 'Wings and Seafood To Go', 'Latitude': 44.9411308765411, 'Longitude': -93.2779846340418, 'Address': '3404 Nicollet Ave S, Minneapolis 55408', 'Rating': 3.5, 'Reviews': 17}, {'Index': 999, 'YelpID': 'IKQTWYgW_aYsBKfiYeKmbQ', 'Name': 'Beancounter Coffeehouse & Cafe', 'Latitude': 44.977862, 'Longitude': -93.269031, 'Address': '101 South 5th St Skyway Level, Minneapolis 55402', 'Rating': 4.5, 'Reviews': 6})]\n(Background on this error at: http://sqlalche.me/e/9h9h)",
     "output_type": "error",
     "traceback": [
      "\u001b[1;31m---------------------------------------------------------------------------\u001b[0m",
      "\u001b[1;31mStringDataRightTruncation\u001b[0m                 Traceback (most recent call last)",
      "\u001b[1;32m~\\Anaconda3\\lib\\site-packages\\sqlalchemy\\engine\\base.py\u001b[0m in \u001b[0;36m_execute_context\u001b[1;34m(self, dialect, constructor, statement, parameters, *args)\u001b[0m\n\u001b[0;32m   1223\u001b[0m                     self.dialect.do_executemany(\n\u001b[1;32m-> 1224\u001b[1;33m                         \u001b[0mcursor\u001b[0m\u001b[1;33m,\u001b[0m \u001b[0mstatement\u001b[0m\u001b[1;33m,\u001b[0m \u001b[0mparameters\u001b[0m\u001b[1;33m,\u001b[0m \u001b[0mcontext\u001b[0m\u001b[1;33m\u001b[0m\u001b[1;33m\u001b[0m\u001b[0m\n\u001b[0m\u001b[0;32m   1225\u001b[0m                     )\n",
      "\u001b[1;32m~\\Anaconda3\\lib\\site-packages\\sqlalchemy\\dialects\\postgresql\\psycopg2.py\u001b[0m in \u001b[0;36mdo_executemany\u001b[1;34m(self, cursor, statement, parameters, context)\u001b[0m\n\u001b[0;32m    772\u001b[0m         \u001b[1;32melse\u001b[0m\u001b[1;33m:\u001b[0m\u001b[1;33m\u001b[0m\u001b[1;33m\u001b[0m\u001b[0m\n\u001b[1;32m--> 773\u001b[1;33m             \u001b[0mcursor\u001b[0m\u001b[1;33m.\u001b[0m\u001b[0mexecutemany\u001b[0m\u001b[1;33m(\u001b[0m\u001b[0mstatement\u001b[0m\u001b[1;33m,\u001b[0m \u001b[0mparameters\u001b[0m\u001b[1;33m)\u001b[0m\u001b[1;33m\u001b[0m\u001b[1;33m\u001b[0m\u001b[0m\n\u001b[0m\u001b[0;32m    774\u001b[0m \u001b[1;33m\u001b[0m\u001b[0m\n",
      "\u001b[1;31mStringDataRightTruncation\u001b[0m: value too long for type character varying(50)\n",
      "\nThe above exception was the direct cause of the following exception:\n",
      "\u001b[1;31mDataError\u001b[0m                                 Traceback (most recent call last)",
      "\u001b[1;32m<ipython-input-14-61ac54ee03d9>\u001b[0m in \u001b[0;36m<module>\u001b[1;34m\u001b[0m\n\u001b[0;32m     17\u001b[0m \u001b[0mBase\u001b[0m\u001b[1;33m.\u001b[0m\u001b[0mmetadata\u001b[0m\u001b[1;33m.\u001b[0m\u001b[0mcreate_all\u001b[0m\u001b[1;33m(\u001b[0m\u001b[0mengine\u001b[0m\u001b[1;33m)\u001b[0m\u001b[1;33m\u001b[0m\u001b[1;33m\u001b[0m\u001b[0m\n\u001b[0;32m     18\u001b[0m \u001b[1;33m\u001b[0m\u001b[0m\n\u001b[1;32m---> 19\u001b[1;33m \u001b[0myelp_df\u001b[0m\u001b[1;33m.\u001b[0m\u001b[0mto_sql\u001b[0m\u001b[1;33m(\u001b[0m\u001b[1;34m'yelp'\u001b[0m\u001b[1;33m,\u001b[0m \u001b[0mengine\u001b[0m\u001b[1;33m,\u001b[0m \u001b[0mif_exists\u001b[0m\u001b[1;33m=\u001b[0m\u001b[1;34m'append'\u001b[0m\u001b[1;33m,\u001b[0m \u001b[0mindex\u001b[0m\u001b[1;33m=\u001b[0m\u001b[1;32mFalse\u001b[0m\u001b[1;33m)\u001b[0m\u001b[1;33m\u001b[0m\u001b[1;33m\u001b[0m\u001b[0m\n\u001b[0m",
      "\u001b[1;32m~\\Anaconda3\\lib\\site-packages\\pandas\\core\\generic.py\u001b[0m in \u001b[0;36mto_sql\u001b[1;34m(self, name, con, schema, if_exists, index, index_label, chunksize, dtype, method)\u001b[0m\n\u001b[0;32m   2529\u001b[0m         sql.to_sql(self, name, con, schema=schema, if_exists=if_exists,\n\u001b[0;32m   2530\u001b[0m                    \u001b[0mindex\u001b[0m\u001b[1;33m=\u001b[0m\u001b[0mindex\u001b[0m\u001b[1;33m,\u001b[0m \u001b[0mindex_label\u001b[0m\u001b[1;33m=\u001b[0m\u001b[0mindex_label\u001b[0m\u001b[1;33m,\u001b[0m \u001b[0mchunksize\u001b[0m\u001b[1;33m=\u001b[0m\u001b[0mchunksize\u001b[0m\u001b[1;33m,\u001b[0m\u001b[1;33m\u001b[0m\u001b[1;33m\u001b[0m\u001b[0m\n\u001b[1;32m-> 2531\u001b[1;33m                    dtype=dtype, method=method)\n\u001b[0m\u001b[0;32m   2532\u001b[0m \u001b[1;33m\u001b[0m\u001b[0m\n\u001b[0;32m   2533\u001b[0m     def to_pickle(self, path, compression='infer',\n",
      "\u001b[1;32m~\\Anaconda3\\lib\\site-packages\\pandas\\io\\sql.py\u001b[0m in \u001b[0;36mto_sql\u001b[1;34m(frame, name, con, schema, if_exists, index, index_label, chunksize, dtype, method)\u001b[0m\n\u001b[0;32m    458\u001b[0m     pandas_sql.to_sql(frame, name, if_exists=if_exists, index=index,\n\u001b[0;32m    459\u001b[0m                       \u001b[0mindex_label\u001b[0m\u001b[1;33m=\u001b[0m\u001b[0mindex_label\u001b[0m\u001b[1;33m,\u001b[0m \u001b[0mschema\u001b[0m\u001b[1;33m=\u001b[0m\u001b[0mschema\u001b[0m\u001b[1;33m,\u001b[0m\u001b[1;33m\u001b[0m\u001b[1;33m\u001b[0m\u001b[0m\n\u001b[1;32m--> 460\u001b[1;33m                       chunksize=chunksize, dtype=dtype, method=method)\n\u001b[0m\u001b[0;32m    461\u001b[0m \u001b[1;33m\u001b[0m\u001b[0m\n\u001b[0;32m    462\u001b[0m \u001b[1;33m\u001b[0m\u001b[0m\n",
      "\u001b[1;32m~\\Anaconda3\\lib\\site-packages\\pandas\\io\\sql.py\u001b[0m in \u001b[0;36mto_sql\u001b[1;34m(self, frame, name, if_exists, index, index_label, schema, chunksize, dtype, method)\u001b[0m\n\u001b[0;32m   1172\u001b[0m                          schema=schema, dtype=dtype)\n\u001b[0;32m   1173\u001b[0m         \u001b[0mtable\u001b[0m\u001b[1;33m.\u001b[0m\u001b[0mcreate\u001b[0m\u001b[1;33m(\u001b[0m\u001b[1;33m)\u001b[0m\u001b[1;33m\u001b[0m\u001b[1;33m\u001b[0m\u001b[0m\n\u001b[1;32m-> 1174\u001b[1;33m         \u001b[0mtable\u001b[0m\u001b[1;33m.\u001b[0m\u001b[0minsert\u001b[0m\u001b[1;33m(\u001b[0m\u001b[0mchunksize\u001b[0m\u001b[1;33m,\u001b[0m \u001b[0mmethod\u001b[0m\u001b[1;33m=\u001b[0m\u001b[0mmethod\u001b[0m\u001b[1;33m)\u001b[0m\u001b[1;33m\u001b[0m\u001b[1;33m\u001b[0m\u001b[0m\n\u001b[0m\u001b[0;32m   1175\u001b[0m         \u001b[1;32mif\u001b[0m \u001b[1;33m(\u001b[0m\u001b[1;32mnot\u001b[0m \u001b[0mname\u001b[0m\u001b[1;33m.\u001b[0m\u001b[0misdigit\u001b[0m\u001b[1;33m(\u001b[0m\u001b[1;33m)\u001b[0m \u001b[1;32mand\u001b[0m \u001b[1;32mnot\u001b[0m \u001b[0mname\u001b[0m\u001b[1;33m.\u001b[0m\u001b[0mislower\u001b[0m\u001b[1;33m(\u001b[0m\u001b[1;33m)\u001b[0m\u001b[1;33m)\u001b[0m\u001b[1;33m:\u001b[0m\u001b[1;33m\u001b[0m\u001b[1;33m\u001b[0m\u001b[0m\n\u001b[0;32m   1176\u001b[0m             \u001b[1;31m# check for potentially case sensitivity issues (GH7815)\u001b[0m\u001b[1;33m\u001b[0m\u001b[1;33m\u001b[0m\u001b[1;33m\u001b[0m\u001b[0m\n",
      "\u001b[1;32m~\\Anaconda3\\lib\\site-packages\\pandas\\io\\sql.py\u001b[0m in \u001b[0;36minsert\u001b[1;34m(self, chunksize, method)\u001b[0m\n\u001b[0;32m    684\u001b[0m \u001b[1;33m\u001b[0m\u001b[0m\n\u001b[0;32m    685\u001b[0m                 \u001b[0mchunk_iter\u001b[0m \u001b[1;33m=\u001b[0m \u001b[0mzip\u001b[0m\u001b[1;33m(\u001b[0m\u001b[1;33m*\u001b[0m\u001b[1;33m[\u001b[0m\u001b[0marr\u001b[0m\u001b[1;33m[\u001b[0m\u001b[0mstart_i\u001b[0m\u001b[1;33m:\u001b[0m\u001b[0mend_i\u001b[0m\u001b[1;33m]\u001b[0m \u001b[1;32mfor\u001b[0m \u001b[0marr\u001b[0m \u001b[1;32min\u001b[0m \u001b[0mdata_list\u001b[0m\u001b[1;33m]\u001b[0m\u001b[1;33m)\u001b[0m\u001b[1;33m\u001b[0m\u001b[1;33m\u001b[0m\u001b[0m\n\u001b[1;32m--> 686\u001b[1;33m                 \u001b[0mexec_insert\u001b[0m\u001b[1;33m(\u001b[0m\u001b[0mconn\u001b[0m\u001b[1;33m,\u001b[0m \u001b[0mkeys\u001b[0m\u001b[1;33m,\u001b[0m \u001b[0mchunk_iter\u001b[0m\u001b[1;33m)\u001b[0m\u001b[1;33m\u001b[0m\u001b[1;33m\u001b[0m\u001b[0m\n\u001b[0m\u001b[0;32m    687\u001b[0m \u001b[1;33m\u001b[0m\u001b[0m\n\u001b[0;32m    688\u001b[0m     def _query_iterator(self, result, chunksize, columns, coerce_float=True,\n",
      "\u001b[1;32m~\\Anaconda3\\lib\\site-packages\\pandas\\io\\sql.py\u001b[0m in \u001b[0;36m_execute_insert\u001b[1;34m(self, conn, keys, data_iter)\u001b[0m\n\u001b[0;32m    597\u001b[0m         \"\"\"\n\u001b[0;32m    598\u001b[0m         \u001b[0mdata\u001b[0m \u001b[1;33m=\u001b[0m \u001b[1;33m[\u001b[0m\u001b[0mdict\u001b[0m\u001b[1;33m(\u001b[0m\u001b[0mzip\u001b[0m\u001b[1;33m(\u001b[0m\u001b[0mkeys\u001b[0m\u001b[1;33m,\u001b[0m \u001b[0mrow\u001b[0m\u001b[1;33m)\u001b[0m\u001b[1;33m)\u001b[0m \u001b[1;32mfor\u001b[0m \u001b[0mrow\u001b[0m \u001b[1;32min\u001b[0m \u001b[0mdata_iter\u001b[0m\u001b[1;33m]\u001b[0m\u001b[1;33m\u001b[0m\u001b[1;33m\u001b[0m\u001b[0m\n\u001b[1;32m--> 599\u001b[1;33m         \u001b[0mconn\u001b[0m\u001b[1;33m.\u001b[0m\u001b[0mexecute\u001b[0m\u001b[1;33m(\u001b[0m\u001b[0mself\u001b[0m\u001b[1;33m.\u001b[0m\u001b[0mtable\u001b[0m\u001b[1;33m.\u001b[0m\u001b[0minsert\u001b[0m\u001b[1;33m(\u001b[0m\u001b[1;33m)\u001b[0m\u001b[1;33m,\u001b[0m \u001b[0mdata\u001b[0m\u001b[1;33m)\u001b[0m\u001b[1;33m\u001b[0m\u001b[1;33m\u001b[0m\u001b[0m\n\u001b[0m\u001b[0;32m    600\u001b[0m \u001b[1;33m\u001b[0m\u001b[0m\n\u001b[0;32m    601\u001b[0m     \u001b[1;32mdef\u001b[0m \u001b[0m_execute_insert_multi\u001b[0m\u001b[1;33m(\u001b[0m\u001b[0mself\u001b[0m\u001b[1;33m,\u001b[0m \u001b[0mconn\u001b[0m\u001b[1;33m,\u001b[0m \u001b[0mkeys\u001b[0m\u001b[1;33m,\u001b[0m \u001b[0mdata_iter\u001b[0m\u001b[1;33m)\u001b[0m\u001b[1;33m:\u001b[0m\u001b[1;33m\u001b[0m\u001b[1;33m\u001b[0m\u001b[0m\n",
      "\u001b[1;32m~\\Anaconda3\\lib\\site-packages\\sqlalchemy\\engine\\base.py\u001b[0m in \u001b[0;36mexecute\u001b[1;34m(self, object_, *multiparams, **params)\u001b[0m\n\u001b[0;32m    986\u001b[0m             \u001b[1;32mraise\u001b[0m \u001b[0mexc\u001b[0m\u001b[1;33m.\u001b[0m\u001b[0mObjectNotExecutableError\u001b[0m\u001b[1;33m(\u001b[0m\u001b[0mobject_\u001b[0m\u001b[1;33m)\u001b[0m\u001b[1;33m\u001b[0m\u001b[1;33m\u001b[0m\u001b[0m\n\u001b[0;32m    987\u001b[0m         \u001b[1;32melse\u001b[0m\u001b[1;33m:\u001b[0m\u001b[1;33m\u001b[0m\u001b[1;33m\u001b[0m\u001b[0m\n\u001b[1;32m--> 988\u001b[1;33m             \u001b[1;32mreturn\u001b[0m \u001b[0mmeth\u001b[0m\u001b[1;33m(\u001b[0m\u001b[0mself\u001b[0m\u001b[1;33m,\u001b[0m \u001b[0mmultiparams\u001b[0m\u001b[1;33m,\u001b[0m \u001b[0mparams\u001b[0m\u001b[1;33m)\u001b[0m\u001b[1;33m\u001b[0m\u001b[1;33m\u001b[0m\u001b[0m\n\u001b[0m\u001b[0;32m    989\u001b[0m \u001b[1;33m\u001b[0m\u001b[0m\n\u001b[0;32m    990\u001b[0m     \u001b[1;32mdef\u001b[0m \u001b[0m_execute_function\u001b[0m\u001b[1;33m(\u001b[0m\u001b[0mself\u001b[0m\u001b[1;33m,\u001b[0m \u001b[0mfunc\u001b[0m\u001b[1;33m,\u001b[0m \u001b[0mmultiparams\u001b[0m\u001b[1;33m,\u001b[0m \u001b[0mparams\u001b[0m\u001b[1;33m)\u001b[0m\u001b[1;33m:\u001b[0m\u001b[1;33m\u001b[0m\u001b[1;33m\u001b[0m\u001b[0m\n",
      "\u001b[1;32m~\\Anaconda3\\lib\\site-packages\\sqlalchemy\\sql\\elements.py\u001b[0m in \u001b[0;36m_execute_on_connection\u001b[1;34m(self, connection, multiparams, params)\u001b[0m\n\u001b[0;32m    285\u001b[0m     \u001b[1;32mdef\u001b[0m \u001b[0m_execute_on_connection\u001b[0m\u001b[1;33m(\u001b[0m\u001b[0mself\u001b[0m\u001b[1;33m,\u001b[0m \u001b[0mconnection\u001b[0m\u001b[1;33m,\u001b[0m \u001b[0mmultiparams\u001b[0m\u001b[1;33m,\u001b[0m \u001b[0mparams\u001b[0m\u001b[1;33m)\u001b[0m\u001b[1;33m:\u001b[0m\u001b[1;33m\u001b[0m\u001b[1;33m\u001b[0m\u001b[0m\n\u001b[0;32m    286\u001b[0m         \u001b[1;32mif\u001b[0m \u001b[0mself\u001b[0m\u001b[1;33m.\u001b[0m\u001b[0msupports_execution\u001b[0m\u001b[1;33m:\u001b[0m\u001b[1;33m\u001b[0m\u001b[1;33m\u001b[0m\u001b[0m\n\u001b[1;32m--> 287\u001b[1;33m             \u001b[1;32mreturn\u001b[0m \u001b[0mconnection\u001b[0m\u001b[1;33m.\u001b[0m\u001b[0m_execute_clauseelement\u001b[0m\u001b[1;33m(\u001b[0m\u001b[0mself\u001b[0m\u001b[1;33m,\u001b[0m \u001b[0mmultiparams\u001b[0m\u001b[1;33m,\u001b[0m \u001b[0mparams\u001b[0m\u001b[1;33m)\u001b[0m\u001b[1;33m\u001b[0m\u001b[1;33m\u001b[0m\u001b[0m\n\u001b[0m\u001b[0;32m    288\u001b[0m         \u001b[1;32melse\u001b[0m\u001b[1;33m:\u001b[0m\u001b[1;33m\u001b[0m\u001b[1;33m\u001b[0m\u001b[0m\n\u001b[0;32m    289\u001b[0m             \u001b[1;32mraise\u001b[0m \u001b[0mexc\u001b[0m\u001b[1;33m.\u001b[0m\u001b[0mObjectNotExecutableError\u001b[0m\u001b[1;33m(\u001b[0m\u001b[0mself\u001b[0m\u001b[1;33m)\u001b[0m\u001b[1;33m\u001b[0m\u001b[1;33m\u001b[0m\u001b[0m\n",
      "\u001b[1;32m~\\Anaconda3\\lib\\site-packages\\sqlalchemy\\engine\\base.py\u001b[0m in \u001b[0;36m_execute_clauseelement\u001b[1;34m(self, elem, multiparams, params)\u001b[0m\n\u001b[0;32m   1105\u001b[0m             \u001b[0mdistilled_params\u001b[0m\u001b[1;33m,\u001b[0m\u001b[1;33m\u001b[0m\u001b[1;33m\u001b[0m\u001b[0m\n\u001b[0;32m   1106\u001b[0m             \u001b[0mcompiled_sql\u001b[0m\u001b[1;33m,\u001b[0m\u001b[1;33m\u001b[0m\u001b[1;33m\u001b[0m\u001b[0m\n\u001b[1;32m-> 1107\u001b[1;33m             \u001b[0mdistilled_params\u001b[0m\u001b[1;33m,\u001b[0m\u001b[1;33m\u001b[0m\u001b[1;33m\u001b[0m\u001b[0m\n\u001b[0m\u001b[0;32m   1108\u001b[0m         )\n\u001b[0;32m   1109\u001b[0m         \u001b[1;32mif\u001b[0m \u001b[0mself\u001b[0m\u001b[1;33m.\u001b[0m\u001b[0m_has_events\u001b[0m \u001b[1;32mor\u001b[0m \u001b[0mself\u001b[0m\u001b[1;33m.\u001b[0m\u001b[0mengine\u001b[0m\u001b[1;33m.\u001b[0m\u001b[0m_has_events\u001b[0m\u001b[1;33m:\u001b[0m\u001b[1;33m\u001b[0m\u001b[1;33m\u001b[0m\u001b[0m\n",
      "\u001b[1;32m~\\Anaconda3\\lib\\site-packages\\sqlalchemy\\engine\\base.py\u001b[0m in \u001b[0;36m_execute_context\u001b[1;34m(self, dialect, constructor, statement, parameters, *args)\u001b[0m\n\u001b[0;32m   1246\u001b[0m         \u001b[1;32mexcept\u001b[0m \u001b[0mBaseException\u001b[0m \u001b[1;32mas\u001b[0m \u001b[0me\u001b[0m\u001b[1;33m:\u001b[0m\u001b[1;33m\u001b[0m\u001b[1;33m\u001b[0m\u001b[0m\n\u001b[0;32m   1247\u001b[0m             self._handle_dbapi_exception(\n\u001b[1;32m-> 1248\u001b[1;33m                 \u001b[0me\u001b[0m\u001b[1;33m,\u001b[0m \u001b[0mstatement\u001b[0m\u001b[1;33m,\u001b[0m \u001b[0mparameters\u001b[0m\u001b[1;33m,\u001b[0m \u001b[0mcursor\u001b[0m\u001b[1;33m,\u001b[0m \u001b[0mcontext\u001b[0m\u001b[1;33m\u001b[0m\u001b[1;33m\u001b[0m\u001b[0m\n\u001b[0m\u001b[0;32m   1249\u001b[0m             )\n\u001b[0;32m   1250\u001b[0m \u001b[1;33m\u001b[0m\u001b[0m\n",
      "\u001b[1;32m~\\Anaconda3\\lib\\site-packages\\sqlalchemy\\engine\\base.py\u001b[0m in \u001b[0;36m_handle_dbapi_exception\u001b[1;34m(self, e, statement, parameters, cursor, context)\u001b[0m\n\u001b[0;32m   1464\u001b[0m                 \u001b[0mutil\u001b[0m\u001b[1;33m.\u001b[0m\u001b[0mraise_from_cause\u001b[0m\u001b[1;33m(\u001b[0m\u001b[0mnewraise\u001b[0m\u001b[1;33m,\u001b[0m \u001b[0mexc_info\u001b[0m\u001b[1;33m)\u001b[0m\u001b[1;33m\u001b[0m\u001b[1;33m\u001b[0m\u001b[0m\n\u001b[0;32m   1465\u001b[0m             \u001b[1;32melif\u001b[0m \u001b[0mshould_wrap\u001b[0m\u001b[1;33m:\u001b[0m\u001b[1;33m\u001b[0m\u001b[1;33m\u001b[0m\u001b[0m\n\u001b[1;32m-> 1466\u001b[1;33m                 \u001b[0mutil\u001b[0m\u001b[1;33m.\u001b[0m\u001b[0mraise_from_cause\u001b[0m\u001b[1;33m(\u001b[0m\u001b[0msqlalchemy_exception\u001b[0m\u001b[1;33m,\u001b[0m \u001b[0mexc_info\u001b[0m\u001b[1;33m)\u001b[0m\u001b[1;33m\u001b[0m\u001b[1;33m\u001b[0m\u001b[0m\n\u001b[0m\u001b[0;32m   1467\u001b[0m             \u001b[1;32melse\u001b[0m\u001b[1;33m:\u001b[0m\u001b[1;33m\u001b[0m\u001b[1;33m\u001b[0m\u001b[0m\n\u001b[0;32m   1468\u001b[0m                 \u001b[0mutil\u001b[0m\u001b[1;33m.\u001b[0m\u001b[0mreraise\u001b[0m\u001b[1;33m(\u001b[0m\u001b[1;33m*\u001b[0m\u001b[0mexc_info\u001b[0m\u001b[1;33m)\u001b[0m\u001b[1;33m\u001b[0m\u001b[1;33m\u001b[0m\u001b[0m\n",
      "\u001b[1;32m~\\Anaconda3\\lib\\site-packages\\sqlalchemy\\util\\compat.py\u001b[0m in \u001b[0;36mraise_from_cause\u001b[1;34m(exception, exc_info)\u001b[0m\n\u001b[0;32m    397\u001b[0m     \u001b[0mexc_type\u001b[0m\u001b[1;33m,\u001b[0m \u001b[0mexc_value\u001b[0m\u001b[1;33m,\u001b[0m \u001b[0mexc_tb\u001b[0m \u001b[1;33m=\u001b[0m \u001b[0mexc_info\u001b[0m\u001b[1;33m\u001b[0m\u001b[1;33m\u001b[0m\u001b[0m\n\u001b[0;32m    398\u001b[0m     \u001b[0mcause\u001b[0m \u001b[1;33m=\u001b[0m \u001b[0mexc_value\u001b[0m \u001b[1;32mif\u001b[0m \u001b[0mexc_value\u001b[0m \u001b[1;32mis\u001b[0m \u001b[1;32mnot\u001b[0m \u001b[0mexception\u001b[0m \u001b[1;32melse\u001b[0m \u001b[1;32mNone\u001b[0m\u001b[1;33m\u001b[0m\u001b[1;33m\u001b[0m\u001b[0m\n\u001b[1;32m--> 399\u001b[1;33m     \u001b[0mreraise\u001b[0m\u001b[1;33m(\u001b[0m\u001b[0mtype\u001b[0m\u001b[1;33m(\u001b[0m\u001b[0mexception\u001b[0m\u001b[1;33m)\u001b[0m\u001b[1;33m,\u001b[0m \u001b[0mexception\u001b[0m\u001b[1;33m,\u001b[0m \u001b[0mtb\u001b[0m\u001b[1;33m=\u001b[0m\u001b[0mexc_tb\u001b[0m\u001b[1;33m,\u001b[0m \u001b[0mcause\u001b[0m\u001b[1;33m=\u001b[0m\u001b[0mcause\u001b[0m\u001b[1;33m)\u001b[0m\u001b[1;33m\u001b[0m\u001b[1;33m\u001b[0m\u001b[0m\n\u001b[0m\u001b[0;32m    400\u001b[0m \u001b[1;33m\u001b[0m\u001b[0m\n\u001b[0;32m    401\u001b[0m \u001b[1;33m\u001b[0m\u001b[0m\n",
      "\u001b[1;32m~\\Anaconda3\\lib\\site-packages\\sqlalchemy\\util\\compat.py\u001b[0m in \u001b[0;36mreraise\u001b[1;34m(tp, value, tb, cause)\u001b[0m\n\u001b[0;32m    151\u001b[0m             \u001b[0mvalue\u001b[0m\u001b[1;33m.\u001b[0m\u001b[0m__cause__\u001b[0m \u001b[1;33m=\u001b[0m \u001b[0mcause\u001b[0m\u001b[1;33m\u001b[0m\u001b[1;33m\u001b[0m\u001b[0m\n\u001b[0;32m    152\u001b[0m         \u001b[1;32mif\u001b[0m \u001b[0mvalue\u001b[0m\u001b[1;33m.\u001b[0m\u001b[0m__traceback__\u001b[0m \u001b[1;32mis\u001b[0m \u001b[1;32mnot\u001b[0m \u001b[0mtb\u001b[0m\u001b[1;33m:\u001b[0m\u001b[1;33m\u001b[0m\u001b[1;33m\u001b[0m\u001b[0m\n\u001b[1;32m--> 153\u001b[1;33m             \u001b[1;32mraise\u001b[0m \u001b[0mvalue\u001b[0m\u001b[1;33m.\u001b[0m\u001b[0mwith_traceback\u001b[0m\u001b[1;33m(\u001b[0m\u001b[0mtb\u001b[0m\u001b[1;33m)\u001b[0m\u001b[1;33m\u001b[0m\u001b[1;33m\u001b[0m\u001b[0m\n\u001b[0m\u001b[0;32m    154\u001b[0m         \u001b[1;32mraise\u001b[0m \u001b[0mvalue\u001b[0m\u001b[1;33m\u001b[0m\u001b[1;33m\u001b[0m\u001b[0m\n\u001b[0;32m    155\u001b[0m \u001b[1;33m\u001b[0m\u001b[0m\n",
      "\u001b[1;32m~\\Anaconda3\\lib\\site-packages\\sqlalchemy\\engine\\base.py\u001b[0m in \u001b[0;36m_execute_context\u001b[1;34m(self, dialect, constructor, statement, parameters, *args)\u001b[0m\n\u001b[0;32m   1222\u001b[0m                 \u001b[1;32mif\u001b[0m \u001b[1;32mnot\u001b[0m \u001b[0mevt_handled\u001b[0m\u001b[1;33m:\u001b[0m\u001b[1;33m\u001b[0m\u001b[1;33m\u001b[0m\u001b[0m\n\u001b[0;32m   1223\u001b[0m                     self.dialect.do_executemany(\n\u001b[1;32m-> 1224\u001b[1;33m                         \u001b[0mcursor\u001b[0m\u001b[1;33m,\u001b[0m \u001b[0mstatement\u001b[0m\u001b[1;33m,\u001b[0m \u001b[0mparameters\u001b[0m\u001b[1;33m,\u001b[0m \u001b[0mcontext\u001b[0m\u001b[1;33m\u001b[0m\u001b[1;33m\u001b[0m\u001b[0m\n\u001b[0m\u001b[0;32m   1225\u001b[0m                     )\n\u001b[0;32m   1226\u001b[0m             \u001b[1;32melif\u001b[0m \u001b[1;32mnot\u001b[0m \u001b[0mparameters\u001b[0m \u001b[1;32mand\u001b[0m \u001b[0mcontext\u001b[0m\u001b[1;33m.\u001b[0m\u001b[0mno_parameters\u001b[0m\u001b[1;33m:\u001b[0m\u001b[1;33m\u001b[0m\u001b[1;33m\u001b[0m\u001b[0m\n",
      "\u001b[1;32m~\\Anaconda3\\lib\\site-packages\\sqlalchemy\\dialects\\postgresql\\psycopg2.py\u001b[0m in \u001b[0;36mdo_executemany\u001b[1;34m(self, cursor, statement, parameters, context)\u001b[0m\n\u001b[0;32m    771\u001b[0m             \u001b[0mextras\u001b[0m\u001b[1;33m.\u001b[0m\u001b[0mexecute_batch\u001b[0m\u001b[1;33m(\u001b[0m\u001b[0mcursor\u001b[0m\u001b[1;33m,\u001b[0m \u001b[0mstatement\u001b[0m\u001b[1;33m,\u001b[0m \u001b[0mparameters\u001b[0m\u001b[1;33m)\u001b[0m\u001b[1;33m\u001b[0m\u001b[1;33m\u001b[0m\u001b[0m\n\u001b[0;32m    772\u001b[0m         \u001b[1;32melse\u001b[0m\u001b[1;33m:\u001b[0m\u001b[1;33m\u001b[0m\u001b[1;33m\u001b[0m\u001b[0m\n\u001b[1;32m--> 773\u001b[1;33m             \u001b[0mcursor\u001b[0m\u001b[1;33m.\u001b[0m\u001b[0mexecutemany\u001b[0m\u001b[1;33m(\u001b[0m\u001b[0mstatement\u001b[0m\u001b[1;33m,\u001b[0m \u001b[0mparameters\u001b[0m\u001b[1;33m)\u001b[0m\u001b[1;33m\u001b[0m\u001b[1;33m\u001b[0m\u001b[0m\n\u001b[0m\u001b[0;32m    774\u001b[0m \u001b[1;33m\u001b[0m\u001b[0m\n\u001b[0;32m    775\u001b[0m     \u001b[1;33m@\u001b[0m\u001b[0mutil\u001b[0m\u001b[1;33m.\u001b[0m\u001b[0mmemoized_instancemethod\u001b[0m\u001b[1;33m\u001b[0m\u001b[1;33m\u001b[0m\u001b[0m\n",
      "\u001b[1;31mDataError\u001b[0m: (psycopg2.errors.StringDataRightTruncation) value too long for type character varying(50)\n\n[SQL: INSERT INTO yelp (\"Index\", \"YelpID\", \"Name\", \"Latitude\", \"Longitude\", \"Address\", \"Rating\", \"Reviews\") VALUES (%(Index)s, %(YelpID)s, %(Name)s, %(Latitude)s, %(Longitude)s, %(Address)s, %(Rating)s, %(Reviews)s)]\n[parameters: ({'Index': 0, 'YelpID': 'G9KdODINirmdSuYaBfBppA', 'Name': 'Butcher & The Boar', 'Latitude': 44.974777, 'Longitude': -93.279792, 'Address': '1121 Hennepin Ave, Minneapolis 55403', 'Rating': 4.5, 'Reviews': 1613}, {'Index': 1, 'YelpID': 'zv_XJAQr9D3PNR5eHYhC5w', 'Name': 'Bar La Grassa', 'Latitude': 44.98954, 'Longitude': -93.278594, 'Address': '800 Washington Ave N, Minneapolis 55401', 'Rating': 4.5, 'Reviews': 1246}, {'Index': 2, 'YelpID': '6vaAze9Fxuco249L3BhEdQ', 'Name': '112 Eatery', 'Latitude': 44.98267, 'Longitude': -93.2716, 'Address': '112 N 3rd St, Minneapolis 55401', 'Rating': 4.5, 'Reviews': 1163}, {'Index': 3, 'YelpID': '5s2sT8ux7og5XfK-180r2g', 'Name': 'George & The Dragon', 'Latitude': 44.912151, 'Longitude': -93.290436, 'Address': '813 W 50th St, Minneapolis 55419', 'Rating': 4.5, 'Reviews': 884}, {'Index': 4, 'YelpID': '5olLs-K-_k_rWrrNLjvy0w', 'Name': 'Spoon and Stable', 'Latitude': 44.9854892917291, 'Longitude': -93.2695363613423, 'Address': '211 N 1st St, Minneapolis 55401', 'Rating': 4.5, 'Reviews': 893}, {'Index': 5, 'YelpID': 'g7bbpP7x5KAc33i7pgOkLA', 'Name': \"Hell's Kitchen\", 'Latitude': 44.97460605855, 'Longitude': -93.2726155438114, 'Address': '80 S 9th St, Minneapolis 55402', 'Rating': 4.0, 'Reviews': 2358}, {'Index': 6, 'YelpID': 'iH3FcZ4Xchx3s7fgIINaYg', 'Name': 'Pizzeria Lola', 'Latitude': 44.9018519553182, 'Longitude': -93.3186280826087, 'Address': '5557 Xerxes Ave S, Minneapolis 55410', 'Rating': 4.5, 'Reviews': 1016}, {'Index': 7, 'YelpID': 'MDPv2B2jwA1qLvQCXlEVww', 'Name': 'Red Cow - Minneapolis', 'Latitude': 44.9835380660176, 'Longitude': -93.2696064205751, 'Address': '208 N 1st Ave, Minneapolis 55401', 'Rating': 4.5, 'Reviews': 929}  ... displaying 10 of 1000 total bound parameter sets ...  {'Index': 998, 'YelpID': 'Z7FQJU7hq7OGhTN6ReNsIA', 'Name': 'Wings and Seafood To Go', 'Latitude': 44.9411308765411, 'Longitude': -93.2779846340418, 'Address': '3404 Nicollet Ave S, Minneapolis 55408', 'Rating': 3.5, 'Reviews': 17}, {'Index': 999, 'YelpID': 'IKQTWYgW_aYsBKfiYeKmbQ', 'Name': 'Beancounter Coffeehouse & Cafe', 'Latitude': 44.977862, 'Longitude': -93.269031, 'Address': '101 South 5th St Skyway Level, Minneapolis 55402', 'Rating': 4.5, 'Reviews': 6})]\n(Background on this error at: http://sqlalche.me/e/9h9h)"
     ]
    }
   ],
   "source": [
    "# Creates Classes which will serve as the anchor points for our Table, loads table to Postgres and uplads the data\n",
    "\n",
    "Base = declarative_base()\n",
    "engine = create_engine(postgres_str)\n",
    "\n",
    "class Yelp(Base):\n",
    "    __tablename__ = 'yelp'\n",
    "    Index=Column(Integer,primary_key=True,autoincrement=True)\n",
    "    YelpID=Column(String,nullable=False)\n",
    "    Name=Column(String)\n",
    "    Latitude=Column(Float(20))\n",
    "    Longitude=Column(Float(20))\n",
    "    Address=Column(String)\n",
    "    Rating=Column(Float(10))\n",
    "    Reviews=Column(Integer)\n",
    "                   \n",
    "Base.metadata.create_all(engine)\n",
    "\n",
    "yelp_df.to_sql('yelp', engine, if_exists='append', index=False)"
   ]
  }
 ],
 "metadata": {
  "kernelspec": {
   "display_name": "Python 3",
   "language": "python",
   "name": "python3"
  },
  "language_info": {
   "codemirror_mode": {
    "name": "ipython",
    "version": 3
   },
   "file_extension": ".py",
   "mimetype": "text/x-python",
   "name": "python",
   "nbconvert_exporter": "python",
   "pygments_lexer": "ipython3",
   "version": "3.7.3"
  }
 },
 "nbformat": 4,
 "nbformat_minor": 2
}
