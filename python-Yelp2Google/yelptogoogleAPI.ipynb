{
 "cells": [
  {
   "cell_type": "code",
   "execution_count": null,
   "metadata": {
    "ExecuteTime": {
     "end_time": "2020-01-18T05:44:30.827249Z",
     "start_time": "2020-01-18T05:44:30.206422Z"
    }
   },
   "outputs": [],
   "source": [
    "import requests\n",
    "import json\n",
    "import pandas as pd\n",
    "import numpy as np\n",
    "import datetime\n",
    "from config import api_key\n",
    "from config import google_key\n",
    "import sqlalchemy\n",
    "import urllib\n",
    "from sqlalchemy import create_engine\n",
    "from sqlalchemy.ext.declarative import declarative_base\n",
    "from sqlalchemy import PrimaryKeyConstraint\n",
    "from sqlalchemy.orm import Session\n",
    "from sqlalchemy.orm import sessionmaker\n",
    "from sqlalchemy import Column, Integer, String, Float, DateTime\n",
    "from sqlalchemy.schema import Sequence"
   ]
  },
  {
   "cell_type": "code",
   "execution_count": null,
   "metadata": {
    "ExecuteTime": {
     "end_time": "2020-01-18T05:44:55.928995Z",
     "start_time": "2020-01-18T05:44:37.253344Z"
    },
    "scrolled": true
   },
   "outputs": [],
   "source": [
    "data = []\n",
    "\n",
    "headers = {'Authorization': 'Bearer %s' % api_key}\n",
    "\n",
    "url='https://api.yelp.com/v3/businesses/search'\n",
    "\n",
    "# lat=44.9375\n",
    "# lon=-93.2010\n",
    "\n",
    "for offset in range(0, 1000, 50):\n",
    "    \n",
    "    params = {\n",
    "        'limit':50, \n",
    "        'location':'Minneapolis, MN',\n",
    "#         'latitude':lat,\n",
    "#         'longitude':lon,\n",
    "#         'radius':10000,\n",
    "        'categories':'restaurants',\n",
    "        'offset':offset\n",
    "        }  \n",
    "    \n",
    "    response=requests.get(url, params=params, headers=headers)\n",
    "    if response.status_code == 200:\n",
    "        data += response.json()['businesses']\n",
    "    elif response.status_code == 400:\n",
    "        print('400 Bad Request')\n",
    "        break\n",
    "        \n",
    "print(json.dumps(data, indent=4, sort_keys=True))"
   ]
  },
  {
   "cell_type": "code",
   "execution_count": null,
   "metadata": {
    "ExecuteTime": {
     "end_time": "2020-01-17T15:00:22.879120Z",
     "start_time": "2020-01-17T15:00:22.869147Z"
    }
   },
   "outputs": [],
   "source": [
    "len(data)"
   ]
  },
  {
   "cell_type": "code",
   "execution_count": null,
   "metadata": {
    "ExecuteTime": {
     "end_time": "2020-01-18T05:45:05.825337Z",
     "start_time": "2020-01-18T05:45:05.724601Z"
    },
    "scrolled": true
   },
   "outputs": [],
   "source": [
    "i=0\n",
    "yelp_list=[]\n",
    "for places in data:\n",
    "    yelp_id=data[i]['id']\n",
    "    name=data[i]['name']\n",
    "    street=data[i]['location']['address1'] \n",
    "    city=data[i]['location']['city']\n",
    "    zipcode=data[i]['location']['zip_code']\n",
    "    address= f'{street}, {city} {zipcode}'\n",
    "    rating=data[i]['rating']\n",
    "    reviews=data[i]['review_count']\n",
    "    latitude=data[i]['coordinates']['latitude']\n",
    "    longitude=data[i]['coordinates']['longitude']\n",
    "    if data[i]['is_closed']==False:\n",
    "        business_dict={\"YelpID\":yelp_id,\"Name\":name,\"Latitude\":latitude,\"Longitude\":longitude,\"Address\":address, \"Rating\":rating,\"Reviews\":reviews}\n",
    "        yelp_list.append(business_dict)\n",
    "    i+=1\n",
    "    \n",
    "yelp_list"
   ]
  },
  {
   "cell_type": "code",
   "execution_count": null,
   "metadata": {
    "ExecuteTime": {
     "end_time": "2020-01-17T15:00:23.091554Z",
     "start_time": "2020-01-17T15:00:23.086566Z"
    }
   },
   "outputs": [],
   "source": [
    "len(yelp_list)"
   ]
  },
  {
   "cell_type": "code",
   "execution_count": null,
   "metadata": {
    "ExecuteTime": {
     "end_time": "2020-01-18T05:45:12.153944Z",
     "start_time": "2020-01-18T05:45:12.102087Z"
    }
   },
   "outputs": [],
   "source": [
    "yelp_df=pd.DataFrame(yelp_list)\n",
    "yelp_df['Index']=yelp_df.index\n",
    "yelp_df=yelp_df[['Index','YelpID','Name','Latitude','Longitude','Address','Rating','Reviews']]\n",
    "yelp_df.to_csv(\"yelp.csv\")\n",
    "yelp_df"
   ]
  },
  {
   "cell_type": "code",
   "execution_count": null,
   "metadata": {
    "ExecuteTime": {
     "end_time": "2020-01-18T04:07:46.013886Z",
     "start_time": "2020-01-18T04:07:46.006920Z"
    }
   },
   "outputs": [],
   "source": [
    "yelp_df.dtypes"
   ]
  },
  {
   "cell_type": "code",
   "execution_count": null,
   "metadata": {
    "ExecuteTime": {
     "end_time": "2020-01-18T05:45:17.884762Z",
     "start_time": "2020-01-18T05:45:17.879776Z"
    }
   },
   "outputs": [],
   "source": [
    "#Postgres username, password, and database name\n",
    "ipaddress = 'localhost'\n",
    "port = '5432'\n",
    "username = 'postgres'\n",
    "password = 'password' \n",
    "dbname = 'Minneapolis_Restaurants'\n",
    "# A long string that contains the necessary Postgres login information\n",
    "postgres_str = f'postgresql://{username}:{password}@{ipaddress}:{port}/{dbname}'"
   ]
  },
  {
   "cell_type": "code",
   "execution_count": null,
   "metadata": {
    "ExecuteTime": {
     "end_time": "2020-01-18T10:20:13.360567Z",
     "start_time": "2020-01-18T10:20:13.144145Z"
    }
   },
   "outputs": [],
   "source": [
    "# Creates Classes which will serve as the anchor points for our Table, loads table to Postgres and uplads the data\n",
    "\n",
    "Base = declarative_base()\n",
    "engine = create_engine(postgres_str)\n",
    "\n",
    "class Yelp(Base):\n",
    "    __tablename__ = 'yelp'\n",
    "    Index=Column(Integer,primary_key=True,autoincrement=True)\n",
    "    YelpID=Column(String,nullable=False)\n",
    "    Name=Column(String)\n",
    "    Latitude=Column(Float(20))\n",
    "    Longitude=Column(Float(20))\n",
    "    Address=Column(String)\n",
    "    Rating=Column(Float(10))\n",
    "    Reviews=Column(Integer)\n",
    "                   \n",
    "Base.metadata.create_all(engine)\n",
    "\n",
    "yelp_df.to_sql('yelp', engine, if_exists='append', index=False)"
   ]
  },
  {
   "cell_type": "code",
   "execution_count": null,
   "metadata": {
    "ExecuteTime": {
     "end_time": "2020-01-17T22:18:36.562755Z",
     "start_time": "2020-01-17T22:08:40.341327Z"
    }
   },
   "outputs": [],
   "source": [
    "url = 'https://maps.googleapis.com/maps/api/place/findplacefromtext/json?'\n",
    "google_data=[]\n",
    "\n",
    "for places in yelp_list:\n",
    "    \n",
    "    params = {\n",
    "        'key':google_key,\n",
    "        'input':places['Name'],\n",
    "        'inputtype':'textquery',\n",
    "        'locationbias': 'point:' + str(places['Latitude']) + \", \" + str(places['Longitude']),\n",
    "        'radius': 10,\n",
    "        'fields':'name,formatted_address,place_id,geometry,rating,user_ratings_total'\n",
    "        }\n",
    "    \n",
    "    response = requests.get(url, params=params)\n",
    "\n",
    "    if len(response.json()['candidates'])>0:\n",
    "        google_data.append(response.json()['candidates'][0])\n",
    "    else:\n",
    "        google_data.append(\"\")\n",
    "\n",
    "google_data"
   ]
  },
  {
   "cell_type": "code",
   "execution_count": null,
   "metadata": {
    "ExecuteTime": {
     "end_time": "2020-01-17T22:24:17.828790Z",
     "start_time": "2020-01-17T22:24:17.824801Z"
    }
   },
   "outputs": [],
   "source": [
    "len(google_data)"
   ]
  },
  {
   "cell_type": "code",
   "execution_count": null,
   "metadata": {
    "ExecuteTime": {
     "end_time": "2020-01-17T22:24:17.992351Z",
     "start_time": "2020-01-17T22:24:17.830786Z"
    },
    "code_folding": []
   },
   "outputs": [],
   "source": [
    "i=0\n",
    "google_list=[]\n",
    "\n",
    "for places in google_data:\n",
    "    if places != \"\":\n",
    "        if \"place_id\" in places:\n",
    "            google_id = places['place_id']\n",
    "        if \"name\" in places:\n",
    "            name = places['name']\n",
    "        if \"formatted_address\" in places:\n",
    "            address = places['formatted_address']\n",
    "        if \"rating\" in places:\n",
    "            rating  = places['rating']\n",
    "        if \"reviews\" in places:\n",
    "            reviews = places['user_ratings_total']\n",
    "        if \"geometry\" in places:\n",
    "            latitude = places['geometry']['location']['lat']\n",
    "            longitude = places['geometry']['location']['lng']\n",
    "        business_dict = {\"Google Places ID\":google_id,\"Name\":name,\"Latitude\":latitude,\"Longitude\":longitude,\"Address\":address, \"Rating\":rating,\"Reviews\":reviews}\n",
    "    \n",
    "    else:\n",
    "        business_dict = {\"Google Places ID\":\"\",\"Name\":\"\",\"Latitude\":\"\",\"Longitude\":\"\",\"Address\":\"\", \"Rating\":\"\",\"Reviews\":\"\"}\n",
    "    \n",
    "    google_list.append(business_dict)\n",
    "    \n",
    "    i+=1\n",
    "    \n",
    "google_list"
   ]
  },
  {
   "cell_type": "code",
   "execution_count": null,
   "metadata": {
    "ExecuteTime": {
     "end_time": "2020-01-17T22:24:18.027260Z",
     "start_time": "2020-01-17T22:24:17.994346Z"
    }
   },
   "outputs": [],
   "source": [
    "yelp_df = pd.DataFrame(yelp_list)\n",
    "google_df=pd.DataFrame(google_list)\n",
    "\n",
    "yelp_df.to_csv('yelp.csv')\n",
    "google_df.to_csv('google.csv')"
   ]
  },
  {
   "cell_type": "code",
   "execution_count": null,
   "metadata": {
    "ExecuteTime": {
     "end_time": "2020-01-17T22:43:27.460183Z",
     "start_time": "2020-01-17T22:43:27.421287Z"
    }
   },
   "outputs": [],
   "source": [
    "i - 0\n",
    "compare_list=[]\n",
    "yelpgeo_list=[]\n",
    "\n",
    "for i in range(1000):\n",
    "\n",
    "    compare = {\"Yelp\":yelp_list[i]['Name'],\"Google\":google_list[i]['Name'],\"GoogleAddress\":google_list[i]['Address'],\"Yelp Address\":yelp_list[i]['Address']}\n",
    "    yelp_with_geometry = {'Name (Yelp)':yelp_list[i]['Name'],'Lat':yelp_list[i]['Latitude'],'Lon':yelp_list[i]['Longitude']}\n",
    "    compare_list.append(compare)\n",
    "    yelpgeo_list.append(yelp_with_geometry)\n",
    "    i+=1\n",
    "\n",
    "compare_df = pd.DataFrame(compare_list)\n",
    "yelpGeometry_df=pd.DataFrame(yelpgeo_list)\n",
    "compare_df.to_csv('compare.csv')\n",
    "yelpGeometry_df.to_csv('yelpgeo.csv')\n",
    "\n",
    "yelpGeometry_df"
   ]
  },
  {
   "cell_type": "code",
   "execution_count": null,
   "metadata": {
    "ExecuteTime": {
     "end_time": "2020-01-17T22:41:19.423476Z",
     "start_time": "2020-01-17T22:41:19.071419Z"
    }
   },
   "outputs": [],
   "source": [
    "records = yelp_list[999]\n",
    "\n",
    "biz = records['Name']\n",
    "\n",
    "biz_string = biz.split(' ',1)[0].upper()\n",
    "\n",
    "url='https://services.arcgis.com/afSMGVsC7QlRK1kZ/arcgis/rest/services/Food_Inspections/FeatureServer/0/query?where=1%3D1&outFields=*&outSR=4326&f=json'\n",
    "pre_url = 'https://services.arcgis.com/afSMGVsC7QlRK1kZ/arcgis/rest/services/Food_Inspections/FeatureServer/0/query?'\n",
    "\n",
    "\n",
    "minlat=records['Latitude']-.001\n",
    "maxlat=records['Latitude']+.001\n",
    "minlon=records['Longitude']-.001\n",
    "maxlon=records['Longitude']+.001\n",
    "\n",
    "params = f\"where=BusinessName%20like%20'%25{biz_string}%25'%20AND%20Latitude%20%3E%3D%20{minlat}%20AND%20Latitude%20%3C%3D%20{maxlat}%20AND%20Longitude%20%3E%3D%20{minlon}%20AND%20Longitude%20%3C%3D%20{maxlon}\"\n",
    "\n",
    "outfields = \"&outFields=FacilityCategory,BusinessName,RiskLevel,FullAddress,InspectionType,InspectionResult,DateOfInspection,InspectionIDNumber,YearOfInspection,InspectionScore,Latitude,Longitude,ZipCode,ViolationStatus,HealthFacilityIDNumber&returnGeometry=false&outSR=4326\"\n",
    "\n",
    "json = '&f=json'\n",
    "\n",
    "full_url = pre_url+params+outfields+json\n",
    "\n",
    "response = requests.get(full_url)\n",
    "\n",
    "response.json()['features']\n"
   ]
  },
  {
   "cell_type": "code",
   "execution_count": null,
   "metadata": {
    "ExecuteTime": {
     "end_time": "2020-01-17T23:30:17.944509Z",
     "start_time": "2020-01-17T23:25:41.400334Z"
    }
   },
   "outputs": [],
   "source": [
    "inspection_data=[]\n",
    "\n",
    "for records in yelp_list:\n",
    "\n",
    "    biz = records['Name']\n",
    "\n",
    "    biz_string = biz.split(' ',1)[0].upper()\n",
    "    biz_string = biz_string.replace(\"'\",\"\")\n",
    "    biz_string = biz_string.replace(\"&\",\"\")\n",
    "\n",
    "    url = 'https://services.arcgis.com/afSMGVsC7QlRK1kZ/arcgis/rest/services/Food_Inspections/FeatureServer/0/query?'\n",
    "\n",
    "    minlat=records['Latitude']-.001\n",
    "    maxlat=records['Latitude']+.001\n",
    "    minlon=records['Longitude']-.001\n",
    "    maxlon=records['Longitude']+.001\n",
    "\n",
    "    params = f\"where=BusinessName%20like%20'%25{biz_string}%25'%20AND%20Latitude%20%3E%3D%20{minlat}%20AND%20Latitude%20%3C%3D%20{maxlat}%20AND%20Longitude%20%3E%3D%20{minlon}%20AND%20Longitude%20%3C%3D%20{maxlon}\"\n",
    "\n",
    "    outfields = \"&outFields=BusinessName,OBJECTID,HealthFacilityIDNumber,RiskLevel,FullAddress,InspectionType,InspectionResult,DateOfInspection,InspectionIDNumber,YearOfInspection,InspectionScore,Latitude,Longitude,ZipCode,ViolationStatus&returnGeometry=false&outSR=4326\"\n",
    "\n",
    "    json = '&f=json'\n",
    "\n",
    "    full_url = url+params+outfields+json\n",
    "\n",
    "    response = requests.get(full_url)\n",
    "    \n",
    "    if response !=\"\":\n",
    "        inspection_data += response.json()['features']\n",
    "    \n",
    "inspection_data"
   ]
  },
  {
   "cell_type": "code",
   "execution_count": null,
   "metadata": {
    "ExecuteTime": {
     "end_time": "2020-01-17T23:31:21.763498Z",
     "start_time": "2020-01-17T23:31:21.758511Z"
    }
   },
   "outputs": [],
   "source": [
    "len(inspection_data)\n"
   ]
  },
  {
   "cell_type": "code",
   "execution_count": null,
   "metadata": {
    "ExecuteTime": {
     "end_time": "2020-01-17T23:31:26.685340Z",
     "start_time": "2020-01-17T23:31:26.437003Z"
    }
   },
   "outputs": [],
   "source": [
    "inspection_data_list = []\n",
    "\n",
    "for records in inspection_data:\n",
    "    item = records['attributes']\n",
    "    inspection_data_list.append(item)\n",
    "    \n",
    "inspection_data_list"
   ]
  },
  {
   "cell_type": "code",
   "execution_count": null,
   "metadata": {
    "ExecuteTime": {
     "end_time": "2020-01-17T23:31:38.639617Z",
     "start_time": "2020-01-17T23:31:38.505943Z"
    }
   },
   "outputs": [],
   "source": [
    "inspection_df = pd.DataFrame(inspection_data_list)\n",
    "inspection_df"
   ]
  }
 ],
 "metadata": {
  "kernelspec": {
   "display_name": "Python 3",
   "language": "python",
   "name": "python3"
  },
  "language_info": {
   "codemirror_mode": {
    "name": "ipython",
    "version": 3
   },
   "file_extension": ".py",
   "mimetype": "text/x-python",
   "name": "python",
   "nbconvert_exporter": "python",
   "pygments_lexer": "ipython3",
   "version": "3.7.3"
  }
 },
 "nbformat": 4,
 "nbformat_minor": 2
}
