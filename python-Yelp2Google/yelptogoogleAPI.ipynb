{
 "cells": [
  {
   "cell_type": "code",
   "execution_count": null,
   "metadata": {
    "ExecuteTime": {
     "end_time": "2020-01-17T01:06:04.256496Z",
     "start_time": "2020-01-17T01:06:02.067279Z"
    }
   },
   "outputs": [],
   "source": [
    "from yelp.client import Client\n",
    "import requests\n",
    "import json\n",
    "import pandas as pd\n",
    "import numpy as np\n",
    "from config import api_key\n",
    "from config import google_key"
   ]
  },
  {
   "cell_type": "code",
   "execution_count": null,
   "metadata": {
    "ExecuteTime": {
     "end_time": "2020-01-17T01:06:25.256553Z",
     "start_time": "2020-01-17T01:06:04.257822Z"
    },
    "scrolled": true
   },
   "outputs": [],
   "source": [
    "data = []\n",
    "\n",
    "headers = {'Authorization': 'Bearer %s' % api_key}\n",
    "\n",
    "url='https://api.yelp.com/v3/businesses/search'\n",
    "\n",
    "lat=44.9375\n",
    "lon=-93.2010\n",
    "\n",
    "for offset in range(0, 1000, 50):\n",
    "    \n",
    "    params = {\n",
    "        'limit':50, \n",
    "        'location':'Minneapolis, MN',\n",
    "#         'latitude':lat,\n",
    "#         'longitude':lon,\n",
    "#         'radius':10000,\n",
    "        'categories':'restaurants',\n",
    "        'offset':offset\n",
    "        }  \n",
    "    \n",
    "    response=requests.get(url, params=params, headers=headers)\n",
    "    if response.status_code == 200:\n",
    "        data += response.json()['businesses']\n",
    "    elif response.status_code == 400:\n",
    "        print('400 Bad Request')\n",
    "        break\n",
    "        \n",
    "print(json.dumps(data, indent=4, sort_keys=True))"
   ]
  },
  {
   "cell_type": "code",
   "execution_count": null,
   "metadata": {
    "ExecuteTime": {
     "end_time": "2020-01-17T01:13:01.646537Z",
     "start_time": "2020-01-17T01:13:01.642535Z"
    }
   },
   "outputs": [],
   "source": [
    "len(data)"
   ]
  },
  {
   "cell_type": "code",
   "execution_count": null,
   "metadata": {
    "ExecuteTime": {
     "end_time": "2020-01-17T01:25:49.519485Z",
     "start_time": "2020-01-17T01:25:49.393822Z"
    },
    "scrolled": true
   },
   "outputs": [],
   "source": [
    "i=0\n",
    "yelp_list=[]\n",
    "for places in data:\n",
    "    yelp_id=data[i]['id']\n",
    "    name=data[i]['name']\n",
    "    street=data[i]['location']['address1'] \n",
    "    city=data[i]['location']['city']\n",
    "    zipcode=data[i]['location']['zip_code']\n",
    "    address= f'{street}, {city} {zipcode}'\n",
    "    rating=data[i]['rating']\n",
    "    reviews=data[i]['review_count']\n",
    "    latitude=data[i]['coordinates']['latitude']\n",
    "    longitude=data[i]['coordinates']['longitude']\n",
    "    if data[i]['is_closed']==False:\n",
    "        business_dict={\"YelpID\":yelp_id,\"Name\":name,\"Latitude\":latitude,\"Longitude\":longitude,\"Address\":address, \"Rating\":rating,\"Reviews\":reviews}\n",
    "        yelp_list.append(business_dict)\n",
    "    i+=1\n",
    "    \n",
    "yelp_list"
   ]
  },
  {
   "cell_type": "code",
   "execution_count": null,
   "metadata": {
    "ExecuteTime": {
     "end_time": "2020-01-17T01:26:07.594130Z",
     "start_time": "2020-01-17T01:26:07.590141Z"
    }
   },
   "outputs": [],
   "source": [
    "len(yelp_list)"
   ]
  },
  {
   "cell_type": "code",
   "execution_count": null,
   "metadata": {
    "ExecuteTime": {
     "end_time": "2020-01-17T01:26:15.290298Z",
     "start_time": "2020-01-17T01:26:15.253395Z"
    }
   },
   "outputs": [],
   "source": [
    "yelp=pd.DataFrame(yelp_list)\n",
    "yelp.to_csv(\"yelp.csv\")\n",
    "yelp"
   ]
  },
  {
   "cell_type": "code",
   "execution_count": null,
   "metadata": {
    "ExecuteTime": {
     "end_time": "2020-01-17T01:12:36.953627Z",
     "start_time": "2020-01-17T01:06:25.420116Z"
    }
   },
   "outputs": [],
   "source": [
    "url = 'https://maps.googleapis.com/maps/api/place/findplacefromtext/json?'\n",
    "google_data=[]\n",
    "\n",
    "for places in yelp_list:\n",
    "    \n",
    "    params = {\n",
    "        'key':google_key,\n",
    "        'input':places['Name'],\n",
    "        'inputtype':'textquery',\n",
    "        'locationbias': 'point:' + str(places['Latitude']) + \", \" + str(places['Longitude']),\n",
    "        'radius': 10,\n",
    "        'fields':'name,formatted_address,place_id,geometry,rating,user_ratings_total'\n",
    "        }\n",
    "    \n",
    "    response = requests.get(url, params=params)\n",
    "\n",
    "    if len(response.json()['candidates'])>0:\n",
    "        google_data.append(response.json()['candidates'][0])\n",
    "    else:\n",
    "        google_data.append(\"\")\n",
    "\n",
    "google_data"
   ]
  },
  {
   "cell_type": "code",
   "execution_count": null,
   "metadata": {
    "ExecuteTime": {
     "end_time": "2020-01-17T01:12:36.955621Z",
     "start_time": "2020-01-17T01:06:02.508Z"
    }
   },
   "outputs": [],
   "source": [
    "len(google_data)"
   ]
  },
  {
   "cell_type": "code",
   "execution_count": null,
   "metadata": {
    "ExecuteTime": {
     "end_time": "2020-01-17T01:12:36.956618Z",
     "start_time": "2020-01-17T01:06:02.569Z"
    },
    "code_folding": []
   },
   "outputs": [],
   "source": [
    "i=0\n",
    "google_list=[]\n",
    "\n",
    "for places in google_data:\n",
    "    if places != \"\":\n",
    "        if \"place_id\" in places:\n",
    "            google_id = places['place_id']\n",
    "        if \"name\" in places:\n",
    "            name = places['name']\n",
    "        if \"formatted_address\" in places:\n",
    "            address = places['formatted_address']\n",
    "        if \"rating\" in places:\n",
    "            rating  = places['rating']\n",
    "        if \"reviews\" in places:\n",
    "            reviews = places['user_ratings_total']\n",
    "        if \"geometry\" in places:\n",
    "            latitude = places['geometry']['location']['lat']\n",
    "            longitude = places['geometry']['location']['lng']\n",
    "        business_dict = {\"Google Places ID\":google_id,\"Name\":name,\"Latitude\":latitude,\"Longitude\":longitude,\"Address\":address, \"Rating\":rating,\"Reviews\":reviews}\n",
    "    \n",
    "    else:\n",
    "        business_dict = {\"Google Places ID\":\"\",\"Name\":\"\",\"Latitude\":\"\",\"Longitude\":\"\",\"Address\":\"\", \"Rating\":\"\",\"Reviews\":\"\"}\n",
    "    \n",
    "    google_list.append(business_dict)\n",
    "    \n",
    "    i+=1\n",
    "    \n",
    "google_list"
   ]
  },
  {
   "cell_type": "code",
   "execution_count": null,
   "metadata": {
    "ExecuteTime": {
     "end_time": "2020-01-17T01:12:36.958614Z",
     "start_time": "2020-01-17T01:06:02.617Z"
    }
   },
   "outputs": [],
   "source": [
    "yelp_df = pd.DataFrame(yelp_list)\n",
    "google_df=pd.DataFrame(google_list)\n",
    "\n",
    "yelp_df.to_csv('yelp.csv')\n",
    "google_df.to_csv('google.csv')"
   ]
  },
  {
   "cell_type": "code",
   "execution_count": null,
   "metadata": {
    "ExecuteTime": {
     "end_time": "2020-01-17T01:12:36.959612Z",
     "start_time": "2020-01-17T01:06:02.673Z"
    }
   },
   "outputs": [],
   "source": [
    "i - 0\n",
    "compare_list=[]\n",
    "\n",
    "for i in range(1000):\n",
    "\n",
    "    compare = {\"Yelp\":yelp_list[i]['Name'],\"Google\":google_list[i]['Name']}\n",
    "    compare_list.append(compare)\n",
    "    i+=1\n",
    "\n",
    "compare_df = pd.DataFrame(compare_list)\n",
    "compare_df.to_csv('compare.csv')\n",
    "compare_df"
   ]
  },
  {
   "cell_type": "code",
   "execution_count": null,
   "metadata": {},
   "outputs": [],
   "source": []
  }
 ],
 "metadata": {
  "kernelspec": {
   "display_name": "Python 3",
   "language": "python",
   "name": "python3"
  },
  "language_info": {
   "codemirror_mode": {
    "name": "ipython",
    "version": 3
   },
   "file_extension": ".py",
   "mimetype": "text/x-python",
   "name": "python",
   "nbconvert_exporter": "python",
   "pygments_lexer": "ipython3",
   "version": "3.7.3"
  }
 },
 "nbformat": 4,
 "nbformat_minor": 2
}
