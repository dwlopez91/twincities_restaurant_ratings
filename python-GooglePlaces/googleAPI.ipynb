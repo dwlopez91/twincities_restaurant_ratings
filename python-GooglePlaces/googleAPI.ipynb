{
 "cells": [
  {
   "cell_type": "code",
   "execution_count": null,
   "metadata": {
    "ExecuteTime": {
     "end_time": "2020-01-14T02:33:30.675796Z",
     "start_time": "2020-01-14T02:33:30.100211Z"
    }
   },
   "outputs": [],
   "source": [
    "import requests\n",
    "import json\n",
    "import pandas as pd\n",
    "import numpy as np\n",
    "from config import api_key\n",
    "import time"
   ]
  },
  {
   "cell_type": "code",
   "execution_count": null,
   "metadata": {
    "ExecuteTime": {
     "end_time": "2020-01-14T02:33:36.714108Z",
     "start_time": "2020-01-14T02:33:30.678669Z"
    },
    "scrolled": true
   },
   "outputs": [],
   "source": [
    "url='https://maps.googleapis.com/maps/api/place/nearbysearch/json?'\n",
    "\n",
    "lat=44.9375\n",
    "lon=-93.2010\n",
    "\n",
    "params = {\n",
    "    'key':api_key,\n",
    "    'location': str(lat) + \", \" + str(lon),\n",
    "    'radius': 10000,\n",
    "    'type': 'restaurant',\n",
    "    'fields':'place_id'\n",
    "    }\n",
    "\n",
    "response = requests.get(url, params=params)\n",
    "\n",
    "next_page_token = response.json()['next_page_token']\n",
    "\n",
    "data = response.json()['results']\n",
    "\n",
    "time.sleep(2)\n",
    "\n",
    "for i in range(4):\n",
    "    \n",
    "    params = {\n",
    "        'pagetoken':next_page_token,\n",
    "        'key':api_key\n",
    "        }  \n",
    "    \n",
    "    response=requests.get(url, params=params)\n",
    "    if response.status_code == 200:\n",
    "        data += response.json()['results']\n",
    "    elif response.status_code == 400:\n",
    "        print('400 Bad Request')\n",
    "        break\n",
    "        \n",
    "j=0\n",
    "placeid_list=[]\n",
    "for places in data:\n",
    "    place_id=data[j]['place_id']\n",
    "    placeid_list.append(place_id)\n",
    "    j+=1\n",
    "    \n",
    "placeid_list"
   ]
  },
  {
   "cell_type": "code",
   "execution_count": null,
   "metadata": {
    "ExecuteTime": {
     "end_time": "2020-01-14T02:34:01.208396Z",
     "start_time": "2020-01-14T02:33:36.716103Z"
    },
    "scrolled": true
   },
   "outputs": [],
   "source": [
    "data2=[]\n",
    "\n",
    "for place_id in placeid_list:\n",
    "    url = 'https://maps.googleapis.com/maps/api/place/details/json?key='+api_key+'&place_id='+place_id+'&fields=place_id,name,geometry,types,formatted_address,formatted_phone_number,url,website,rating,user_ratings_total'\n",
    "        \n",
    "    place_response = requests.get(url)\n",
    "    \n",
    "    data2.append(place_response.json()['result'])\n",
    "    \n",
    "print(json.dumps(data2, indent=4, sort_keys=True))"
   ]
  },
  {
   "cell_type": "code",
   "execution_count": null,
   "metadata": {
    "ExecuteTime": {
     "end_time": "2020-01-14T02:34:01.215377Z",
     "start_time": "2020-01-14T02:34:01.210390Z"
    }
   },
   "outputs": [],
   "source": [
    "len(data2)"
   ]
  },
  {
   "cell_type": "code",
   "execution_count": null,
   "metadata": {
    "ExecuteTime": {
     "end_time": "2020-01-14T02:34:01.252279Z",
     "start_time": "2020-01-14T02:34:01.217374Z"
    }
   },
   "outputs": [],
   "source": [
    "i=0\n",
    "business_list=[]\n",
    "for places in data2:\n",
    "    google_id=data2[i]['place_id']\n",
    "    name=data2[i]['name']\n",
    "    rating=data2[i]['rating']\n",
    "    phone=data2[i]['formatted_phone_number']\n",
    "    address=data2[i]['formatted_address']\n",
    "    url=data2[i]['website']\n",
    "    reviews=data2[i]['user_ratings_total']\n",
    "    latitude=data2[i]['geometry']['location']['lat']\n",
    "    longitude=data2[i]['geometry']['location']['lng']\n",
    "    categories = data2[i]['types']\n",
    "    business_dict={\"GoogleID\":google_id,\"Categories\":categories,\"Name\":name,\"Latitude\":latitude,\"Longitude\":longitude,\"Address\":address, \"Phone\":phone,\"URL\":url,\"Rating\":rating,\"Reviews\":reviews}\n",
    "    business_list.append(business_dict)\n",
    "    i+=1\n",
    "    \n",
    "business_list"
   ]
  },
  {
   "cell_type": "code",
   "execution_count": null,
   "metadata": {
    "ExecuteTime": {
     "end_time": "2020-01-14T02:34:01.311132Z",
     "start_time": "2020-01-14T02:34:01.253277Z"
    }
   },
   "outputs": [],
   "source": [
    "business_df=pd.DataFrame(business_list, columns=['GoogleID','Name','Latitude','Longitude','Categories','Address','Phone','URL','Rating','Reviews'])\n",
    "business_df"
   ]
  }
 ],
 "metadata": {
  "kernelspec": {
   "display_name": "Python 3",
   "language": "python",
   "name": "python3"
  },
  "language_info": {
   "codemirror_mode": {
    "name": "ipython",
    "version": 3
   },
   "file_extension": ".py",
   "mimetype": "text/x-python",
   "name": "python",
   "nbconvert_exporter": "python",
   "pygments_lexer": "ipython3",
   "version": "3.7.3"
  }
 },
 "nbformat": 4,
 "nbformat_minor": 2
}
