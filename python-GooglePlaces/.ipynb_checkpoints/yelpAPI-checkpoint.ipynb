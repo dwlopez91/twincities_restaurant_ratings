{
 "cells": [
  {
   "cell_type": "code",
   "execution_count": null,
   "metadata": {
    "ExecuteTime": {
     "end_time": "2020-01-09T16:05:18.802405Z",
     "start_time": "2020-01-09T16:05:16.064486Z"
    }
   },
   "outputs": [],
   "source": [
    "import requests\n",
    "import json\n",
    "import pandas as pd\n",
    "import numpy as np\n",
    "from config import api_key"
   ]
  },
  {
   "cell_type": "code",
   "execution_count": null,
   "metadata": {},
   "outputs": [],
   "source": []
  },
  {
   "cell_type": "code",
   "execution_count": null,
   "metadata": {
    "ExecuteTime": {
     "end_time": "2020-01-09T16:05:42.034258Z",
     "start_time": "2020-01-09T16:05:18.815216Z"
    },
    "scrolled": true
   },
   "outputs": [],
   "source": [
    "data = []\n",
    "\n",
    "headers = {'Authorization': 'Bearer %s' % api_key}\n",
    "\n",
    "url='https://api.yelp.com/v3/businesses/search'\n",
    "\n",
    "lat=44.9375\n",
    "lon=-93.2010\n",
    "\n",
    "for offset in range(0, 100, 50):\n",
    "    \n",
    "    params = {\n",
    "        'limit':50, \n",
    "        'latitude':lat,\n",
    "        'longitude':lon,\n",
    "        'radius':10000,\n",
    "        'categories':'restaurants',\n",
    "        'offset':offset\n",
    "        }  \n",
    "    \n",
    "    response=requests.get(url, params=params, headers=headers)\n",
    "    if response.status_code == 200:\n",
    "        data += response.json()['businesses']\n",
    "    elif response.status_code == 400:\n",
    "        print('400 Bad Request')\n",
    "        break\n",
    "        \n",
    "print(json.dumps(data, indent=4, sort_keys=True))"
   ]
  },
  {
   "cell_type": "code",
   "execution_count": null,
   "metadata": {
    "ExecuteTime": {
     "end_time": "2020-01-09T16:05:42.039927Z",
     "start_time": "2020-01-09T16:05:42.035937Z"
    }
   },
   "outputs": [],
   "source": [
    "len(data)"
   ]
  },
  {
   "cell_type": "code",
   "execution_count": null,
   "metadata": {
    "ExecuteTime": {
     "end_time": "2020-01-09T16:07:51.186145Z",
     "start_time": "2020-01-09T16:07:50.981692Z"
    },
    "scrolled": true
   },
   "outputs": [],
   "source": [
    "i=0\n",
    "business_list=[]\n",
    "for places in data:\n",
    "    yelp_id=data[i]['id']\n",
    "    name=data[i]['name']\n",
    "    phone=data[i]['display_phone']\n",
    "    street=data[i]['location']['address1']\n",
    "    city=data[i]['location']['city']\n",
    "    zipcode=data[i]['location']['zip_code']\n",
    "    address= f'{street}, {city} {zipcode}'\n",
    "    url=data[i]['url']\n",
    "    rating=data[i]['rating']\n",
    "    reviews=data[i]['review_count']\n",
    "    latitude=data[i]['coordinates']['latitude']\n",
    "    longitude=data[i]['coordinates']['longitude']\n",
    "    category = data[i]['categories']\n",
    "    categories = []\n",
    "    for items in category:\n",
    "        item = items['title']\n",
    "        categories.append(item)\n",
    "    if data[i]['is_closed']==False:\n",
    "        business_dict={\"YelpID\":yelp_id,\"Categories\":categories,\"Name\":name,\"Latitude\":latitude,\"Longitude\":longitude,\"Address\":address, \"Phone\":phone,\"URL\":url,\"Rating\":rating,\"Reviews\":reviews}\n",
    "        business_list.append(business_dict)\n",
    "    i+=1\n",
    "    \n",
    "business_list"
   ]
  },
  {
   "cell_type": "code",
   "execution_count": null,
   "metadata": {
    "ExecuteTime": {
     "end_time": "2020-01-09T16:05:42.392983Z",
     "start_time": "2020-01-09T16:05:42.359073Z"
    }
   },
   "outputs": [],
   "source": [
    "business_df=pd.DataFrame(business_list, columns=['YelpID','Name','Latitude','Longitude','Categories','Address','Phone','URL','Rating','Reviews'])\n",
    "business_df"
   ]
  },
  {
   "cell_type": "code",
   "execution_count": null,
   "metadata": {},
   "outputs": [],
   "source": []
  }
 ],
 "metadata": {
  "kernelspec": {
   "display_name": "Python 3",
   "language": "python",
   "name": "python3"
  },
  "language_info": {
   "codemirror_mode": {
    "name": "ipython",
    "version": 3
   },
   "file_extension": ".py",
   "mimetype": "text/x-python",
   "name": "python",
   "nbconvert_exporter": "python",
   "pygments_lexer": "ipython3",
   "version": "3.7.3"
  }
 },
 "nbformat": 4,
 "nbformat_minor": 2
}
